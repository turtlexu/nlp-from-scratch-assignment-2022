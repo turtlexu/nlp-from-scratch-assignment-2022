{
  "cells": [
    {
      "cell_type": "markdown",
      "metadata": {
        "id": "view-in-github",
        "colab_type": "text"
      },
      "source": [
        "<a href=\"https://colab.research.google.com/github/turtlexu/nlp-from-scratch-assignment-2022/blob/main/combine.ipynb\" target=\"_parent\"><img src=\"https://colab.research.google.com/assets/colab-badge.svg\" alt=\"Open In Colab\"/></a>"
      ]
    },
    {
      "cell_type": "code",
      "execution_count": null,
      "id": "4d5f8844",
      "metadata": {
        "scrolled": true,
        "id": "4d5f8844"
      },
      "outputs": [],
      "source": [
        "from sklearn.model_selection import train_test_split\n",
        "import os\n",
        "from seqeval.metrics import f1_score \n",
        "from seqeval.metrics import accuracy_score \n",
        "import random"
      ]
    },
    {
      "cell_type": "code",
      "source": [
        "def get_text_label2(file):\n",
        "    with open(file,\"r\",encoding=\"utf-8\") as f:\n",
        "        all_data = f.read().split(\"\\n\")\n",
        "    text = []\n",
        "    label = []\n",
        "\n",
        "    for data in all_data:\n",
        "        if data == \"\":\n",
        "            text.append('')\n",
        "            label.append('')\n",
        "        else:\n",
        "            # print(\"data\")\n",
        "            # print(data)\n",
        "            for ele in data:\n",
        "              \n",
        "              # print(ele)\n",
        "              t,l = data.split(\" \")\n",
        "              text.append(t)\n",
        "              label.append(l)\n",
        "    return text, label"
      ],
      "metadata": {
        "id": "zIJ_DJGnz3nd"
      },
      "id": "zIJ_DJGnz3nd",
      "execution_count": null,
      "outputs": []
    },
    {
      "cell_type": "code",
      "execution_count": null,
      "id": "dc5639d9",
      "metadata": {
        "id": "dc5639d9"
      },
      "outputs": [],
      "source": [
        "# This is how we combined all annotation and obtain the test set\n",
        "all_text_zf, all_label_zf = get_text_label2(\"cao_et_al_annotation.conll\")\n",
        "all_text_wx, all_label_wx = get_text_label2(\"WX_annotation_2.conll\")\n",
        "annotate_3_text, annotate_3_label = get_text_label2(\"annotate_3_converted.conll\")\n",
        "annotate_4_text, annotate_4_label = get_text_label2(\"annotate_4_converted.conll\")\n",
        "x_more_1_text, x_more_1_label = get_text_label2(\"train_paper1_converted.conll\")\n",
        "x_more_2_text, x_more_2_label = get_text_label2(\"train_paper2_converted.conll\")\n",
        "x_more_3_text, x_more_3_label = get_text_label2(\"train_paper3_converted.conll\")\n",
        "x_more_4_text, x_more_4_label = get_text_label2(\"train_paper4_converted.conll\")\n",
        "x_more_6_text, x_more_6_label = get_text_label2(\"train_paper6_converted.conll\")\n",
        "x_more_7_text, x_more_7_label = get_text_label2(\"train_paper7_converted.conll\")\n",
        "x_more_8_text, x_more_8_label = get_text_label2(\"train_paper8_converted.conll\")\n",
        "all_text = all_text_zf + all_text_wx + annotate_3_text + annotate_4_text + x_more_1_text + x_more_2_text + x_more_3_text + x_more_4_text + x_more_6_text + x_more_7_text + x_more_8_text\n",
        "all_label = all_label_zf + all_label_wx + annotate_3_label + annotate_4_label + x_more_1_label + x_more_2_label + x_more_3_label + x_more_4_label + x_more_6_label + x_more_7_label + x_more_8_label"
      ]
    },
    {
      "cell_type": "code",
      "execution_count": null,
      "id": "b123e0de",
      "metadata": {
        "id": "b123e0de"
      },
      "outputs": [],
      "source": [
        "x_traindev, x_test, y_traindev, y_test = train_test_split(all_text_use, all_label_use, test_size=0.30, random_state=11711)"
      ]
    },
    {
      "cell_type": "code",
      "source": [
        "# because for we split the whole dataset into train 40%, validation/development 30% and test 30%, validation set is 3/7 of train+dev\n",
        "x_train, x_val, y_train, y_val = train_test_split(x_traindev, y_traindev, test_size=0.43, random_state=11711)"
      ],
      "metadata": {
        "id": "yFTqtmCJxitp"
      },
      "id": "yFTqtmCJxitp",
      "execution_count": null,
      "outputs": []
    },
    {
      "cell_type": "code",
      "source": [
        "def write_dataset(text,label):\n",
        "    test_set = []\n",
        "    for i, ele in enumerate(text):\n",
        "        row = ele + \" \" + label[i]\n",
        "        test_set.append(row)\n",
        "    return test_set"
      ],
      "metadata": {
        "id": "5vogmFjZguXy"
      },
      "id": "5vogmFjZguXy",
      "execution_count": null,
      "outputs": []
    },
    {
      "cell_type": "code",
      "source": [
        "test_set = write_dataset(x_test,y_test)\n",
        "with open('test_set.conll', 'a') as f:\n",
        "    for s in test_set:\n",
        "        f.write(s + '\\n')"
      ],
      "metadata": {
        "id": "rtlQShiuhAuL"
      },
      "id": "rtlQShiuhAuL",
      "execution_count": null,
      "outputs": []
    },
    {
      "cell_type": "code",
      "source": [
        "test_set = write_dataset(x_train,y_train)\n",
        "with open('train_set.conll', 'a') as f:\n",
        "    for s in test_set:\n",
        "        f.write(s + '\\n')"
      ],
      "metadata": {
        "id": "kfGt95B7wHTc"
      },
      "id": "kfGt95B7wHTc",
      "execution_count": null,
      "outputs": []
    },
    {
      "cell_type": "code",
      "source": [
        "test_set = write_dataset(x_val,y_val)\n",
        "with open('validation_set.conll', 'a') as f:\n",
        "    for s in test_set:\n",
        "        f.write(s + '\\n')"
      ],
      "metadata": {
        "id": "h0bQo3FmyYpG"
      },
      "id": "h0bQo3FmyYpG",
      "execution_count": null,
      "outputs": []
    }
  ],
  "metadata": {
    "kernelspec": {
      "display_name": "Python 3 (ipykernel)",
      "language": "python",
      "name": "python3"
    },
    "language_info": {
      "codemirror_mode": {
        "name": "ipython",
        "version": 3
      },
      "file_extension": ".py",
      "mimetype": "text/x-python",
      "name": "python",
      "nbconvert_exporter": "python",
      "pygments_lexer": "ipython3",
      "version": "3.9.12"
    },
    "colab": {
      "provenance": [],
      "include_colab_link": true
    }
  },
  "nbformat": 4,
  "nbformat_minor": 5
}